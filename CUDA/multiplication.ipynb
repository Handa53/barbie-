{
  "nbformat": 4,
  "nbformat_minor": 0,
  "metadata": {
    "colab": {
      "provenance": [],
      "gpuType": "T4"
    },
    "kernelspec": {
      "name": "python3",
      "display_name": "Python 3"
    },
    "language_info": {
      "name": "python"
    },
    "accelerator": "GPU"
  },
  "cells": [
    {
      "cell_type": "code",
      "execution_count": null,
      "metadata": {
        "colab": {
          "base_uri": "https://localhost:8080/"
        },
        "id": "r411kfa8rY-8",
        "outputId": "5bc12662-ed5c-4a25-911e-4740454aaf3b"
      },
      "outputs": [
        {
          "output_type": "stream",
          "name": "stdout",
          "text": [
            "Writing matrix_mult.cu\n"
          ]
        }
      ],
      "source": [
        "%%writefile matrix_mult.cu\n",
        "#include <iostream>\n",
        "#include <cuda.h>\n",
        "using namespace std;\n",
        "#define BLOCK_SIZE 2\n",
        "__global__ void gpuMM(float *A, float *B, float *C, int N) {\n",
        "int row = blockIdx.y * blockDim.y + threadIdx.y;\n",
        "int col = blockIdx.x * blockDim.x + threadIdx.x;\n",
        "float sum = 0.f;\n",
        "for (int n = 0; n < N; ++n)\n",
        "sum += A[row * N + n] * B[n * N + col];\n",
        "C[row * N + col] = sum;\n",
        "}\n",
        "int main(int argc, char *argv[]) {\n",
        "int N;\n",
        "float K;\n",
        "// Perform matrix multiplication C = A*B\n",
        "\n",
        "// Perform matrix multiplication C = A*B\n",
        "// where A, B and C are NxN matrices\n",
        "// Restricted to matrices where N = K*BLOCK_SIZE;\n",
        "cout << \"Enter a value for size/2 of matrix: \";\n",
        "cin >> K;\n",
        "K = 1;\n",
        "N = K * BLOCK_SIZE;\n",
        "cout << \"\\nExecuting Matrix Multiplication\" << endl;\n",
        "cout << \"Matrix size: \" << N << \"x\" << N << endl;\n",
        "// Allocate memory on the host\n",
        "float *hA, *hB, *hC;\n",
        "hA = new float[N * N];\n",
        "hB = new float[N * N];\n",
        "hC = new float[N * N];\n",
        "// Initialize matrices on the host with random values\n",
        "srand(time(NULL)); // Seed the random number generator\n",
        "for (int j = 0; j < N; j++) {\n",
        "for (int i = 0; i < N; i++) {\n",
        "hA[j * N + i] = rand() % 10; // Generate random value between 0 and 9\n",
        "hB[j * N + i] = rand() % 10; // Generate random value between 0 and 9\n",
        "}\n",
        "}\n",
        "// Allocate memory on the device\n",
        "int size = N * N * sizeof(float);\n",
        "float *dA, *dB, *dC;\n",
        "cudaMalloc(&dA, size);\n",
        "cudaMalloc(&dB, size);\n",
        "cudaMalloc(&dC, size);\n",
        "dim3 threadBlock(BLOCK_SIZE, BLOCK_SIZE);\n",
        "dim3 grid(K, K);\n",
        "// Copy matrices from the host to device\n",
        "cudaMemcpy(dA, hA, size, cudaMemcpyHostToDevice);\n",
        "cudaMemcpy(dB, hB, size, cudaMemcpyHostToDevice);\n",
        "// Execute the matrix multiplication kernel\n",
        "gpuMM<<<grid, threadBlock>>>(dA, dB, dC, N);\n",
        "// Copy the GPU result back to CPU\n",
        "cudaMemcpy(hC, dC, size, cudaMemcpyDeviceToHost);\n",
        "// Display the result\n",
        "cout << \"\\nResultant matrix:\\n\";\n",
        "for (int row = 0; row < N; row++) {\n",
        "for (int col = 0; col < N; col++) {\n",
        "cout << hC[row * N + col] << \" \";\n",
        "}\n",
        "cout << endl;\n",
        "}\n",
        "\n",
        "// Free device memory\n",
        "cudaFree(dA);\n",
        "cudaFree(dB);\n",
        "cudaFree(dC);\n",
        "// Free host memory\n",
        "delete[] hA;\n",
        "delete[] hB;\n",
        "delete[] hC;\n",
        "cout << \"Finished.\" << endl;\n",
        "return 0;\n",
        "}"
      ]
    },
    {
      "cell_type": "code",
      "source": [
        "\n",
        "!nvcc matrix_mult.cu -o matrix_mult\n",
        "!./matrix_mult"
      ],
      "metadata": {
        "colab": {
          "base_uri": "https://localhost:8080/"
        },
        "id": "5YGpskNSr6hB",
        "outputId": "6ab78598-ca5d-4d0c-9f18-fe9d406b8d3b"
      },
      "execution_count": null,
      "outputs": [
        {
          "output_type": "stream",
          "name": "stdout",
          "text": [
            "Enter a value for size/2 of matrix: 2\n",
            "\n",
            "Executing Matrix Multiplication\n",
            "Matrix size: 2x2\n",
            "\n",
            "Resultant matrix:\n",
            "24 54 \n",
            "24 90 \n",
            "Finished.\n"
          ]
        }
      ]
    },
    {
      "cell_type": "code",
      "source": [],
      "metadata": {
        "id": "DB3VmIdQr6ki"
      },
      "execution_count": null,
      "outputs": []
    }
  ]
}