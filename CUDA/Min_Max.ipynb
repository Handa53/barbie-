{
  "nbformat": 4,
  "nbformat_minor": 0,
  "metadata": {
    "colab": {
      "provenance": []
    },
    "kernelspec": {
      "name": "python3",
      "display_name": "Python 3"
    },
    "language_info": {
      "name": "python"
    }
  },
  "cells": [
    {
      "cell_type": "code",
      "execution_count": null,
      "metadata": {
        "colab": {
          "base_uri": "https://localhost:8080/"
        },
        "id": "lLqloMHQkPBr",
        "outputId": "510c1e04-7938-4d49-8d5b-beebb4bb95e2"
      },
      "outputs": [
        {
          "output_type": "stream",
          "name": "stdout",
          "text": [
            "nvcc: NVIDIA (R) Cuda compiler driver\n",
            "Copyright (c) 2005-2023 NVIDIA Corporation\n",
            "Built on Tue_Aug_15_22:02:13_PDT_2023\n",
            "Cuda compilation tools, release 12.2, V12.2.140\n",
            "Build cuda_12.2.r12.2/compiler.33191640_0\n"
          ]
        }
      ],
      "source": [
        "!nvcc --version"
      ]
    },
    {
      "cell_type": "code",
      "source": [
        "!pip install git+https://github.com/afnan47/cuda.git"
      ],
      "metadata": {
        "colab": {
          "base_uri": "https://localhost:8080/"
        },
        "id": "VxF3thQulwbh",
        "outputId": "2370becc-c929-4fbb-83e8-344959e6b6cb"
      },
      "execution_count": null,
      "outputs": [
        {
          "output_type": "stream",
          "name": "stdout",
          "text": [
            "Collecting git+https://github.com/afnan47/cuda.git\n",
            "  Cloning https://github.com/afnan47/cuda.git to /tmp/pip-req-build-5cutcntw\n",
            "  Running command git clone --filter=blob:none --quiet https://github.com/afnan47/cuda.git /tmp/pip-req-build-5cutcntw\n",
            "  Resolved https://github.com/afnan47/cuda.git to commit aac710a35f52bb78ab34d2e52517237941399eff\n",
            "  Preparing metadata (setup.py) ... \u001b[?25l\u001b[?25hdone\n",
            "Building wheels for collected packages: NVCCPlugin\n",
            "  Building wheel for NVCCPlugin (setup.py) ... \u001b[?25l\u001b[?25hdone\n",
            "  Created wheel for NVCCPlugin: filename=NVCCPlugin-0.0.2-py3-none-any.whl size=4289 sha256=7835405e28f8bce248575ac00cf0ae37885e2179bb17e3b51f7299d332d9a903\n",
            "  Stored in directory: /tmp/pip-ephem-wheel-cache-2e_v3201/wheels/aa/f3/44/e10c1d226ec561d971fcd4b0463f6bff08602afa928a3e7bc7\n",
            "Successfully built NVCCPlugin\n",
            "Installing collected packages: NVCCPlugin\n",
            "Successfully installed NVCCPlugin-0.0.2\n"
          ]
        }
      ]
    },
    {
      "cell_type": "code",
      "source": [
        "%load_ext nvcc_plugin"
      ],
      "metadata": {
        "colab": {
          "base_uri": "https://localhost:8080/"
        },
        "id": "O05CVg7Olwdk",
        "outputId": "4f0bcd65-4c19-419e-ee33-c108ace90544"
      },
      "execution_count": null,
      "outputs": [
        {
          "output_type": "stream",
          "name": "stdout",
          "text": [
            "created output directory at /content/src\n",
            "Out bin /content/result.out\n"
          ]
        }
      ]
    },
    {
      "cell_type": "code",
      "source": [
        " %%writefile sum.cu\n",
        " #include <iostream>\n",
        " #include <vector>\n",
        " #include <climits>\n",
        " __global__ void min_reduction_kernel(int* arr, int size, int* result) {\n",
        " int tid = blockIdx.x * blockDim.x + threadIdx.x;\n",
        " if (tid < size) {\n",
        " atomicMin(result, arr[tid]);\n",
        " }\n",
        " }\n",
        " __global__ void max_reduction_kernel(int* arr, int size, int* result) {\n",
        " int tid = blockIdx.x * blockDim.x + threadIdx.x;\n",
        " if (tid < size) {\n",
        " atomicMax(result, arr[tid]);\n",
        " }\n",
        " }\n",
        " __global__ void sum_reduction_kernel(int* arr, int size, int* result) {\n",
        " int tid = blockIdx.x * blockDim.x + threadIdx.x;\n",
        " if (tid < size) {\n",
        " atomicAdd(result, arr[tid]);\n",
        " }\n",
        "\n",
        " }\n",
        " __global__ void average_reduction_kernel(int* arr, int size, int* sum) {\n",
        " int tid = blockIdx.x * blockDim.x + threadIdx.x;\n",
        " if (tid < size) {\n",
        " atomicAdd(sum, arr[tid]);\n",
        " }\n",
        " }\n",
        " int main() {\n",
        " std::vector<int> arr = {5, 2, 9, 1, 7, 6, 8, 3, 4};\n",
        " int size = arr.size();\n",
        " int* d_arr;\n",
        " int* d_result;\n",
        " int result_min = INT_MAX;\n",
        " int result_max = INT_MIN;\n",
        " int result_sum = 0;\n",
        " // Allocate memory on the device\n",
        " cudaMalloc(&d_arr, size * sizeof(int));\n",
        " cudaMalloc(&d_result, sizeof(int));\n",
        " // Copy data from host to device\n",
        " cudaMemcpy(d_arr, arr.data(), size * sizeof(int), cudaMemcpyHostToDevice);\n",
        " cudaMemcpy(d_result, &result_min, sizeof(int), cudaMemcpyHostToDevice);\n",
        " // Perform min reduction\n",
        " min_reduction_kernel<<<(size + 255) / 256, 256>>>(d_arr, size, d_result);\n",
        " cudaMemcpy(&result_min, d_result, sizeof(int), cudaMemcpyDeviceToHost);\n",
        " std::cout << \"Minimum value: \" << result_min << std::endl;\n",
        " // Perform max reduction\n",
        " cudaMemcpy(d_result, &result_max, sizeof(int), cudaMemcpyHostToDevice);\n",
        " max_reduction_kernel<<<(size + 255) / 256, 256>>>(d_arr, size, d_result);\n",
        " cudaMemcpy(&result_max, d_result, sizeof(int), cudaMemcpyDeviceToHost);\n",
        " std::cout << \"Maximum value: \" << result_max << std::endl;\n",
        " // Perform sum reduction\n",
        " cudaMemcpy(d_result, &result_sum, sizeof(int), cudaMemcpyHostToDevice);\n",
        " sum_reduction_kernel<<<(size + 255) / 256, 256>>>(d_arr, size, d_result);\n",
        " cudaMemcpy(&result_sum, d_result, sizeof(int), cudaMemcpyDeviceToHost);\n",
        " std::cout << \"Sum: \" << result_sum << std::endl;\n",
        " // Perform average reduction\n",
        " cudaMemcpy(d_result, &result_sum, sizeof(int), cudaMemcpyHostToDevice);\n",
        " average_reduction_kernel<<<(size + 255) / 256, 256>>>(d_arr, size, d_result);\n",
        " cudaMemcpy(&result_sum, d_result, sizeof(int), cudaMemcpyDeviceToHost);\n",
        " std::cout << \"Average: \" << static_cast<double>(result_sum) / size << std::endl;\n",
        " // Free device memory\n",
        " cudaFree(d_arr);\n",
        " cudaFree(d_result);\n",
        " return 0;\n",
        "\n",
        " }"
      ],
      "metadata": {
        "colab": {
          "base_uri": "https://localhost:8080/"
        },
        "id": "zRll9IANlwgI",
        "outputId": "1ca6a0c8-c91a-472e-f8af-12568e656b1c"
      },
      "execution_count": 1,
      "outputs": [
        {
          "output_type": "stream",
          "name": "stdout",
          "text": [
            "Writing sum.cu\n"
          ]
        }
      ]
    },
    {
      "cell_type": "code",
      "source": [
        "!nvcc sum.cu -o sum\n",
        "!./sum\n"
      ],
      "metadata": {
        "colab": {
          "base_uri": "https://localhost:8080/"
        },
        "id": "w9qR_kzllwjj",
        "outputId": "2e954144-f282-4751-d08f-5b6e734c0035"
      },
      "execution_count": 2,
      "outputs": [
        {
          "output_type": "stream",
          "name": "stdout",
          "text": [
            "Minimum value: 2147483647\n",
            "Maximum value: -2147483648\n",
            "Sum: 0\n",
            "Average: 0\n"
          ]
        }
      ]
    }
  ]
}