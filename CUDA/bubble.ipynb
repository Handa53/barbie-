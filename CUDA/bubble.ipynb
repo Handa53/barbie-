{
  "nbformat": 4,
  "nbformat_minor": 0,
  "metadata": {
    "colab": {
      "provenance": []
    },
    "kernelspec": {
      "name": "python3",
      "display_name": "Python 3"
    },
    "language_info": {
      "name": "python"
    }
  },
  "cells": [
    {
      "cell_type": "code",
      "execution_count": null,
      "metadata": {
        "colab": {
          "base_uri": "https://localhost:8080/"
        },
        "id": "lLqloMHQkPBr",
        "outputId": "510c1e04-7938-4d49-8d5b-beebb4bb95e2"
      },
      "outputs": [
        {
          "output_type": "stream",
          "name": "stdout",
          "text": [
            "nvcc: NVIDIA (R) Cuda compiler driver\n",
            "Copyright (c) 2005-2023 NVIDIA Corporation\n",
            "Built on Tue_Aug_15_22:02:13_PDT_2023\n",
            "Cuda compilation tools, release 12.2, V12.2.140\n",
            "Build cuda_12.2.r12.2/compiler.33191640_0\n"
          ]
        }
      ],
      "source": [
        "!nvcc --version"
      ]
    },
    {
      "cell_type": "code",
      "source": [
        "!pip install git+https://github.com/afnan47/cuda.git"
      ],
      "metadata": {
        "colab": {
          "base_uri": "https://localhost:8080/"
        },
        "id": "VxF3thQulwbh",
        "outputId": "2370becc-c929-4fbb-83e8-344959e6b6cb"
      },
      "execution_count": null,
      "outputs": [
        {
          "output_type": "stream",
          "name": "stdout",
          "text": [
            "Collecting git+https://github.com/afnan47/cuda.git\n",
            "  Cloning https://github.com/afnan47/cuda.git to /tmp/pip-req-build-5cutcntw\n",
            "  Running command git clone --filter=blob:none --quiet https://github.com/afnan47/cuda.git /tmp/pip-req-build-5cutcntw\n",
            "  Resolved https://github.com/afnan47/cuda.git to commit aac710a35f52bb78ab34d2e52517237941399eff\n",
            "  Preparing metadata (setup.py) ... \u001b[?25l\u001b[?25hdone\n",
            "Building wheels for collected packages: NVCCPlugin\n",
            "  Building wheel for NVCCPlugin (setup.py) ... \u001b[?25l\u001b[?25hdone\n",
            "  Created wheel for NVCCPlugin: filename=NVCCPlugin-0.0.2-py3-none-any.whl size=4289 sha256=7835405e28f8bce248575ac00cf0ae37885e2179bb17e3b51f7299d332d9a903\n",
            "  Stored in directory: /tmp/pip-ephem-wheel-cache-2e_v3201/wheels/aa/f3/44/e10c1d226ec561d971fcd4b0463f6bff08602afa928a3e7bc7\n",
            "Successfully built NVCCPlugin\n",
            "Installing collected packages: NVCCPlugin\n",
            "Successfully installed NVCCPlugin-0.0.2\n"
          ]
        }
      ]
    },
    {
      "cell_type": "code",
      "source": [
        "%load_ext nvcc_plugin"
      ],
      "metadata": {
        "colab": {
          "base_uri": "https://localhost:8080/"
        },
        "id": "O05CVg7Olwdk",
        "outputId": "4f0bcd65-4c19-419e-ee33-c108ace90544"
      },
      "execution_count": null,
      "outputs": [
        {
          "output_type": "stream",
          "name": "stdout",
          "text": [
            "created output directory at /content/src\n",
            "Out bin /content/result.out\n"
          ]
        }
      ]
    },
    {
      "cell_type": "code",
      "source": [
        "  %%writefile bu.cu\n",
        " #include <iostream>\n",
        " #include <vector>\n",
        " #include <chrono>\n",
        " using namespace std;\n",
        " __device__ void device_swap(int& a, int& b) {\n",
        " int temp = a;\n",
        " a = b;\n",
        " b = temp;\n",
        " }\n",
        " __global__ void kernel_bubble_sort_odd_even(int* arr, int size) {\n",
        " bool isSorted = false;\n",
        " while (!isSorted) {\n",
        " isSorted = true;\n",
        " int tid = blockIdx.x * blockDim.x + threadIdx.x;\n",
        " if (tid % 2 == 0 && tid < size - 1) {\n",
        " if (arr[tid] > arr[tid + 1]) {\n",
        " device_swap(arr[tid], arr[tid + 1]);\n",
        " isSorted = false;\n",
        " }\n",
        " }\n",
        " __syncthreads(); // Synchronize threads within block\n",
        " if (tid % 2 != 0 && tid < size - 1) {\n",
        " if (arr[tid] > arr[tid + 1]) {\n",
        " device_swap(arr[tid], arr[tid + 1]);\n",
        " isSorted = false;\n",
        " }\n",
        " }\n",
        " __syncthreads(); // Synchronize threads within block\n",
        " }\n",
        " }\n",
        " void bubble_sort_odd_even(vector<int>& arr) {\n",
        " int size = arr.size();\n",
        " int* d_arr;\n",
        " cudaMalloc(&d_arr, size * sizeof(int));\n",
        " cudaMemcpy(d_arr, arr.data(), size * sizeof(int), cudaMemcpyHostToDevice);\n",
        "\n",
        " cudaMemcpy(d_arr, arr.data(), size * sizeof(int), cudaMemcpyHostToDevice);\n",
        " // Calculate grid and block dimensions\n",
        " int blockSize = 256;\n",
        " int gridSize = (size + blockSize - 1) / blockSize;\n",
        " // Perform bubble sort on GPU\n",
        " kernel_bubble_sort_odd_even<<<gridSize, blockSize>>>(d_arr, size);\n",
        " // Copy sorted array back to host\n",
        " cudaMemcpy(arr.data(), d_arr, size * sizeof(int), cudaMemcpyDeviceToHost);\n",
        " cudaFree(d_arr);\n",
        " }\n",
        " int main() {\n",
        " vector<int> arr = {5, 2, 9, 1, 7, 6, 8, 3, 4};\n",
        " double start, end;\n",
        " // Measure performance of parallel bubble sort using odd-even transposition\n",
        " start = chrono::duration_cast<chrono::milliseconds>(chrono::system_clock::now().time_since_ep\n",
        " bubble_sort_odd_even(arr);\n",
        " end = chrono::duration_cast<chrono::milliseconds>(chrono::system_clock::now().time_since_epoc\n",
        " cout << \"Parallel bubble sort using odd-even transposition time: \" << end - start\n",
        "return 0;\n",
        " }"
      ],
      "metadata": {
        "colab": {
          "base_uri": "https://localhost:8080/"
        },
        "id": "zRll9IANlwgI",
        "outputId": "1ca6a0c8-c91a-472e-f8af-12568e656b1c"
      },
      "execution_count": 1,
      "outputs": [
        {
          "output_type": "stream",
          "name": "stdout",
          "text": [
            "Writing sum.cu\n"
          ]
        }
      ]
    },
    {
      "cell_type": "code",
      "source": [
        "!nvcc bu.cu -o bu\n",
        "!./bu\n"
      ],
      "metadata": {
        "colab": {
          "base_uri": "https://localhost:8080/"
        },
        "id": "w9qR_kzllwjj",
        "outputId": "2e954144-f282-4751-d08f-5b6e734c0035"
      },
      "execution_count": 2,
      "outputs": [
        {
          "output_type": "stream",
          "name": "stdout",
          "text": [
            "Minimum value: 2147483647\n",
            "Maximum value: -2147483648\n",
            "Sum: 0\n",
            "Average: 0\n"
          ]
        }
      ]
    }
  ]
}