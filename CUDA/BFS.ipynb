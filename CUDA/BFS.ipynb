{
  "nbformat": 4,
  "nbformat_minor": 0,
  "metadata": {
    "colab": {
      "provenance": []
    },
    "kernelspec": {
      "name": "python3",
      "display_name": "Python 3"
    },
    "language_info": {
      "name": "python"
    }
  },
  "cells": [
    {
      "cell_type": "code",
      "execution_count": null,
      "metadata": {
        "colab": {
          "base_uri": "https://localhost:8080/"
        },
        "id": "lLqloMHQkPBr",
        "outputId": "510c1e04-7938-4d49-8d5b-beebb4bb95e2"
      },
      "outputs": [
        {
          "output_type": "stream",
          "name": "stdout",
          "text": [
            "nvcc: NVIDIA (R) Cuda compiler driver\n",
            "Copyright (c) 2005-2023 NVIDIA Corporation\n",
            "Built on Tue_Aug_15_22:02:13_PDT_2023\n",
            "Cuda compilation tools, release 12.2, V12.2.140\n",
            "Build cuda_12.2.r12.2/compiler.33191640_0\n"
          ]
        }
      ],
      "source": [
        "!nvcc --version"
      ]
    },
    {
      "cell_type": "code",
      "source": [
        "!pip install git+https://github.com/afnan47/cuda.git"
      ],
      "metadata": {
        "colab": {
          "base_uri": "https://localhost:8080/"
        },
        "id": "VxF3thQulwbh",
        "outputId": "2370becc-c929-4fbb-83e8-344959e6b6cb"
      },
      "execution_count": null,
      "outputs": [
        {
          "output_type": "stream",
          "name": "stdout",
          "text": [
            "Collecting git+https://github.com/afnan47/cuda.git\n",
            "  Cloning https://github.com/afnan47/cuda.git to /tmp/pip-req-build-5cutcntw\n",
            "  Running command git clone --filter=blob:none --quiet https://github.com/afnan47/cuda.git /tmp/pip-req-build-5cutcntw\n",
            "  Resolved https://github.com/afnan47/cuda.git to commit aac710a35f52bb78ab34d2e52517237941399eff\n",
            "  Preparing metadata (setup.py) ... \u001b[?25l\u001b[?25hdone\n",
            "Building wheels for collected packages: NVCCPlugin\n",
            "  Building wheel for NVCCPlugin (setup.py) ... \u001b[?25l\u001b[?25hdone\n",
            "  Created wheel for NVCCPlugin: filename=NVCCPlugin-0.0.2-py3-none-any.whl size=4289 sha256=7835405e28f8bce248575ac00cf0ae37885e2179bb17e3b51f7299d332d9a903\n",
            "  Stored in directory: /tmp/pip-ephem-wheel-cache-2e_v3201/wheels/aa/f3/44/e10c1d226ec561d971fcd4b0463f6bff08602afa928a3e7bc7\n",
            "Successfully built NVCCPlugin\n",
            "Installing collected packages: NVCCPlugin\n",
            "Successfully installed NVCCPlugin-0.0.2\n"
          ]
        }
      ]
    },
    {
      "cell_type": "code",
      "source": [
        "%load_ext nvcc_plugin"
      ],
      "metadata": {
        "colab": {
          "base_uri": "https://localhost:8080/"
        },
        "id": "O05CVg7Olwdk",
        "outputId": "4f0bcd65-4c19-419e-ee33-c108ace90544"
      },
      "execution_count": null,
      "outputs": [
        {
          "output_type": "stream",
          "name": "stdout",
          "text": [
            "created output directory at /content/src\n",
            "Out bin /content/result.out\n"
          ]
        }
      ]
    },
    {
      "cell_type": "code",
      "source": [
        "   # BFS\n",
        " %%writefile breadthfirst.cu\n",
        " #include <iostream>\n",
        " #include <queue>\n",
        " #include <vector>\n",
        " #include <omp.h>\n",
        " using namespace std;\n",
        " int main() {\n",
        " int num_vertices, num_edges, source;\n",
        " cout << \"Enter number of vertices, edges, and source node: \";\n",
        " cin >> num_vertices >> num_edges >> source;\n",
        " // Input validation\n",
        " if (source < 1 || source > num_vertices) {\n",
        " cout << \"Invalid source node!\" << endl;\n",
        " return 1;\n",
        " }\n",
        " 8 of 10\n",
        " 20/04/24, 11:29\n",
        "    }\n",
        "    vector<vector<int>> adj_list(num_vertices + 1);\n",
        "    for (int i = 0; i < num_edges; i++) {\n",
        "        int u, v;\n",
        "        cin >> u >> v;\n",
        "        // Input validation for edges\n",
        "        if (u < 1 || u > num_vertices || v < 1 || v > num_vertices) {\n",
        "            cout << \"Invalid edge: \" << u << \" \" << v << endl;\n",
        "            return 1;\n",
        "        }\n",
        "        adj_list[u].push_back(v);\n",
        "        adj_list[v].push_back(u);\n",
        "    }\n",
        "    queue<int> q;\n",
        "    vector<bool> visited(num_vertices + 1, false);\n",
        "    q.push(source);\n",
        "    visited[source] = true;\n",
        "    while (!q.empty()) {\n",
        "        int curr_vertex = q.front();\n",
        "        q.pop();\n",
        "        cout << curr_vertex << \" \";\n",
        "        // Sequential loop for neighbors\n",
        "        for (int i = 0; i < adj_list[curr_vertex].size(); i++) {\n",
        "            int neighbour = adj_list[curr_vertex][i];\n",
        "            if (!visited[neighbour]) {\n",
        "                visited[neighbour] = true;\n",
        "                q.push(neighbour);\n",
        "            }\n",
        "        }\n",
        "    }\n",
        "    cout << endl;\n",
        "    return 0;\n",
        " }"
      ],
      "metadata": {
        "colab": {
          "base_uri": "https://localhost:8080/"
        },
        "id": "zRll9IANlwgI",
        "outputId": "1ca6a0c8-c91a-472e-f8af-12568e656b1c"
      },
      "execution_count": 1,
      "outputs": [
        {
          "output_type": "stream",
          "name": "stdout",
          "text": [
            "Writing sum.cu\n"
          ]
        }
      ]
    },
    {
      "cell_type": "code",
      "source": [
        "!nvcc breadthfirst.cu -o breadthfirst\n",
        "!./bu\n"
      ],
      "metadata": {
        "colab": {
          "base_uri": "https://localhost:8080/"
        },
        "id": "w9qR_kzllwjj",
        "outputId": "2e954144-f282-4751-d08f-5b6e734c0035"
      },
      "execution_count": 2,
      "outputs": [
        {
          "output_type": "stream",
          "name": "stdout",
          "text": [
            "Minimum value: 2147483647\n",
            "Maximum value: -2147483648\n",
            "Sum: 0\n",
            "Average: 0\n"
          ]
        }
      ]
    }
  ]
}