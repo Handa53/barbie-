{
  "nbformat": 4,
  "nbformat_minor": 0,
  "metadata": {
    "colab": {
      "provenance": []
    },
    "kernelspec": {
      "name": "python3",
      "display_name": "Python 3"
    },
    "language_info": {
      "name": "python"
    }
  },
  "cells": [
    {
      "cell_type": "code",
      "execution_count": null,
      "metadata": {
        "id": "M6XlKd5vnMk7"
      },
      "outputs": [],
      "source": [
        "#include <iostream>\n",
        "#include <vector>\n",
        "#include <omp.h>\n",
        "#include <climits>\n",
        "using namespace std;\n",
        "void min_reduction(vector<int>& arr) {\n",
        "int min_value = INT_MAX;\n",
        "#pragma omp parallel for reduction(min: min_value)\n",
        "for (int i = 0; i < arr.size(); i++) {\n",
        "if (arr[i] < min_value) {\n",
        "min_value = arr[i];\n",
        "}\n",
        "}\n",
        "cout << \"Minimum value: \" << min_value << endl;\n",
        "}\n",
        "void max_reduction(vector<int>& arr) {\n",
        "int max_value = INT_MIN;\n",
        "#pragma omp parallel for reduction(max: max_value)\n",
        "for (int i = 0; i < arr.size(); i++) {\n",
        "if (arr[i] > max_value) {\n",
        "max_value = arr[i];\n",
        "}\n",
        "}\n",
        "cout << \"Maximum value: \" << max_value << endl;\n",
        "}\n",
        "void sum_reduction(vector<int>& arr) {\n",
        "int sum = 0;\n",
        "#pragma omp parallel for reduction(+: sum)\n",
        "for (int i = 0; i < arr.size(); i++) {\n",
        "sum += arr[i];\n",
        "}\n",
        "cout << \"Sum: \" << sum << endl;\n",
        "}\n",
        "void average_reduction(vector<int>& arr) {\n",
        "int sum = 0;\n",
        "#pragma omp parallel for reduction(+: sum)\n",
        "for (int i = 0; i < arr.size(); i++) {\n",
        "sum += arr[i];\n",
        "}\n",
        "cout << \"Average: \" << (double)sum / arr.size() << endl;\n",
        "}\n",
        "int main() {\n",
        "vector<int> arr = {5, 2, 9, 1, 7, 6, 8, 3, 4};\n",
        "min_reduction(arr);\n",
        "max_reduction(arr);\n",
        "sum_reduction(arr);\n",
        "average_reduction(arr);\n",
        "}"
      ]
    }
  ]
}