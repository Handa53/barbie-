{
  "nbformat": 4,
  "nbformat_minor": 0,
  "metadata": {
    "colab": {
      "provenance": []
    },
    "kernelspec": {
      "name": "python3",
      "display_name": "Python 3"
    },
    "language_info": {
      "name": "python"
    }
  },
  "cells": [
    {
      "cell_type": "code",
      "execution_count": null,
      "metadata": {
        "id": "UiptupjPo17T"
      },
      "outputs": [],
      "source": [
        "DFS Code-\n",
        "#include <iostream>\n",
        "#include <vector>\n",
        "#include <omp.h>\n",
        "using namespace std;\n",
        "const int MAXN = 1e5;\n",
        "vector<int> adj[MAXN+5]; // adjacency list\n",
        "bool visited[MAXN+5]; // mark visited nodes\n",
        "void dfs(int node) {\n",
        "visited[node] = true;\n",
        "#pragma omp parallel for\n",
        "for (int i = 0; i < adj[node].size(); i++) {\n",
        "int next_node = adj[node][i];\n",
        "if (!visited[next_node]) {\n",
        "dfs(next_node);\n",
        "}\n",
        "}\n",
        "}\n",
        "int main() {\n",
        "cout << \"Please enter nodes and edges\";\n",
        "int n, m; // number of nodes and edges\n",
        "cin >> n >> m;\n",
        "for (int i = 1; i <= m; i++) {\n",
        "int u, v; // edge between u and v\n",
        "cin >> u >> v;\n",
        "adj[u].push_back(v);\n",
        "adj[v].push_back(u);\n",
        "}\n",
        "int start_node; // start node of DFS\n",
        "cin >> start_node;\n",
        "dfs(start_node);\n",
        "// Print visited nodes\n",
        "for (int i = 1; i <= n; i++) {\n",
        "if (visited[i]) {\n",
        "cout << i << \" \";\n",
        "}\n",
        "}\n",
        "cout << endl;\n",
        "return 0;\n",
        "}"
      ]
    },
    {
      "cell_type": "code",
      "source": [
        "BFS Code-\n",
        "#include <iostream>\n",
        "#include <queue>\n",
        "#include <vector>\n",
        "#include <omp.h>\n",
        "using namespace std;\n",
        "int main() {\n",
        "int num_vertices, num_edges, source;\n",
        "cin >> num_vertices >> num_edges >> source;\n",
        "vector<vector<int>> adj_list(num_vertices + 1);\n",
        "for (int i = 0; i < num_edges; i++) {\n",
        "int u, v;\n",
        "cin >> u >> v;\n",
        "adj_list[u].push_back(v);\n",
        "adj_list[v].push_back(u);\n",
        "}\n",
        "queue<int> q;\n",
        "vector<bool> visited(num_vertices + 1, false);\n",
        "q.push(source);\n",
        "visited[source] = true;\n",
        "while (!q.empty()) {\n",
        "int curr_vertex = q.front();\n",
        "q.pop();\n",
        "cout << curr_vertex << \" \";\n",
        "#pragma omp parallel for shared(adj_list, visited, q) schedule(dynamic)\n",
        "for (int i = 0; i < adj_list[curr_vertex].size(); i++) {\n",
        "int neighbour = adj_list[curr_vertex][i];\n",
        "if (!visited[neighbour]) {\n",
        "visited[neighbour] = true;\n",
        "q.push(neighbour);\n",
        "}\n",
        "}\n",
        "}\n",
        "return 0;\n",
        "}"
      ],
      "metadata": {
        "id": "gRuT0yylo3pl"
      },
      "execution_count": null,
      "outputs": []
    }
  ]
}